{
 "cells": [
  {
   "cell_type": "code",
   "execution_count": 1,
   "id": "76246de6",
   "metadata": {},
   "outputs": [],
   "source": [
    "import requests\n",
    "from bs4 import BeautifulSoup\n",
    "import pandas as pd\n",
    "import numpy as np\n",
    "from tqdm import tqdm"
   ]
  },
  {
   "cell_type": "code",
   "execution_count": 2,
   "id": "9bbb4f0e",
   "metadata": {},
   "outputs": [],
   "source": [
    "link  = \"https://en.wikipedia.org/wiki/Rahul_Gandhi\"\n",
    "res = requests.get(link)\n",
    "soup = BeautifulSoup(res.text,\"html.parser\")\n"
   ]
  },
  {
   "cell_type": "code",
   "execution_count": 3,
   "id": "0d025ea2",
   "metadata": {},
   "outputs": [
    {
     "data": {
      "text/plain": [
       "'Rahul Gandhi'"
      ]
     },
     "execution_count": 3,
     "metadata": {},
     "output_type": "execute_result"
    }
   ],
   "source": [
    "Heading  = soup.find(\"h1\").text\n",
    "Heading\n"
   ]
  },
  {
   "cell_type": "code",
   "execution_count": 4,
   "id": "2d0f6a88",
   "metadata": {},
   "outputs": [
    {
     "name": "stderr",
     "output_type": "stream",
     "text": [
      "100%|██████████████████████████████████████████████████████████████████████████████████████████| 43/43 [00:00<?, ?it/s]"
     ]
    },
    {
     "name": "stdout",
     "output_type": "stream",
     "text": [
      "Rahul Rajiv Gandhi (Hindi pronunciation: [ˈraːɦʊl ˈɡaːndʱiː] (listen); born 19 June 1970) is an Indian politician and a former member of the Indian Parliament, who represented the constituencies of Amethi, Uttar Pradesh and Wayanad, Kerala in the Lok Sabha. He is a member of the main opposition party, the Indian National Congress and was the party president from December 2017 to July 2019. He is the chairperson of the Indian Youth Congress, the National Students Union of India and a trustee of the Rajiv Gandhi Foundation and Rajiv Gandhi Charitable Trust. On 23 March 2023, he was convicted and sentenced to two years imprisonment by a court in Gujarat for a 2019 speech made against the Prime Minister Narendra Modi on defamation allegations related to his surname;[8] the conviction resulted in his disqualification from the Parliament.[2][3]\n",
      "\n",
      "Born in New Delhi, Gandhi spent his early childhood between Delhi and Dehradun and stayed away from the public sphere for much of his childhood and early youth. He attained primary education in New Delhi and Dehradun but was later homeschooled because of security concerns. He began his undergraduate career at St. Stephen's College before moving to Harvard University. Later he transferred to Rollins College in Florida, from which he graduated in 1994 due to security threats following the assassination of his father, the late Prime Minister Rajiv Gandhi. The next year, he obtained his M.Phil. from Cambridge. Post-graduation, he began his professional career with the Monitor Group, a management consulting firm in London. He soon returned to India and established the Mumbai-based technology outsourcing firm, Backops Services Private Ltd.\n",
      "\n",
      "In 2004, Gandhi announced his entrance to politics and successfully contested the general elections held that year from Amethi, a seat that was earlier held by his father; he won again from the constituency in 2009 and 2014. Amidst calls from Congress party veterans for his greater involvement in party politics and national government, he was elected Congress vice-president in 2013, having served as the general secretary previously. He led the Congress' campaign in the 2014 Indian general elections; the party suffered its worst electoral result in its history, winning only 44 seats compared to 206 seats won previously in the 2009 general election. In 2017, he succeeded his mother as Congress party leader and led the party into the 2019 Indian general election. The party won 52 seats, failing to get 10% of the seats needed to claim the post of leader of the opposition. After this poor performance in the election, he resigned as party leader and was succeeded by his mother, Sonia Gandhi, on an interim basis.\n",
      "\n",
      "Gandhi was born in Delhi on 19 June 1970,[9] as the first of the two children of Rajiv Gandhi, who later became the prime minister of India, and Italian-born Sonia Gandhi (née Maino), who later became the president of Indian National Congress, and as the grandson of Prime Minister Indira Gandhi. His paternal grandfather Feroze Gandhi was a Parsi from Gujarat.[10] He is also the great-grandson of India's first prime minister, Jawaharlal Nehru. Priyanka Vadra is his younger sister and Robert Vadra is his brother-in-law.[11]\n",
      "\n",
      "Gandhi attended St. Columba's School, Delhi[12] before entering the all-boys' boarding The Doon School in Dehradun (also the alma mater of his father, Rajiv Gandhi) from 1981 to 1983. Meanwhile, his father joined politics and became the prime minister on 31 October 1984 when Indira Gandhi was assassinated. Due to the security threats faced by Indira Gandhi's family from Sikh extremists, Gandhi, and his sister, Priyanka was home-schooled thereafter.[13]\n",
      "\n",
      "Gandhi joined St. Stephen's College, Delhi (an affiliated college of the University of Delhi), in 1989 for his undergraduate education but moved to Harvard University after he completed the first year examinations.[14] In 1991, after Rajiv Gandhi was assassinated by the Tamil Tigers (LTTE)[15] during an election rally, he shifted to Rollins College in Florida, USA, supposedly due to security concerns and obtained his B.A. in 1994.[16] During his time at Rollins, he assumed the pseudonym Raul Vinci and his identity was known only to the university officials and security agencies.[14][17] He further went on to obtain an Master of Philosophy (MPhil) from Trinity College, Cambridge in 1995.[18]\n",
      "\n",
      "Before joining politics, Gandhi, worked at the Monitor Group, a management consulting firm, in London for three years.[19] In 2002, Gandhi returned to India and set up his technology consultancy viz. Backops Services Private Ltd in Mumbai, where he was one of the directors of the firm.[20] He then opened BackOps UK, a firm which used to acquire defence contracts from foreign companies that supplied to the Indian armed forces.[21] Subramanian Swamy pointed out that Rahul Gandhi declared himself as British citizen in the company's filings but the Congress party said that it was a yearly mistake.[22]\n",
      "\n",
      "In March 2004, Gandhi announced his entry into politics by declaring that he would contest the 14th general elections from his father's former constituency of Amethi in Uttar Pradesh for the Lok Sabha, which is India's lower house of Parliament.[23] His mother had held the seat until she transferred to the neighboring constituency of Raebareli.  When Gandhi made this announcement, it came as a surprise to political commentators who had perceived his sister Priyanka Gandhi as the more charismatic and probable successor. It generated speculation that the presence of a young member of India's most famous political family would reinvigorate the Congress party's political fortunes among India's youthful population[24] In his first interview with foreign media, Gandhi portrayed himself as an uniter of the country and condemned \"divisive\" politics in India, saying that he would try to reduce caste and religious tensions.[23]\n",
      "\n",
      "After being out of power for a record eight years, the Congress party returned to power winning a total of 145 seats, in the 2004 Indian general election. A coalition government was formed at the center by Congress with the backing of regional parties. Gandhi secured a victory by a substantial margin of over 100,000 votes, thereby maintaining the stronghold of his family in Uttar Pradesh.[25] However, the party performed poorly in Uttar Pradesh, as it held only 10 out of the 80 Lok Sabha seats in the state, with a vote share of 12.53 per cent.[26]  He did not hold any official role or position within the government.[27] From 2004 to 2006, Gandhi served as a member for the Standing Committee on Home Affairs. Between 2006 and 2009, he served as the a member of the Standing Committee on Human Resource Development.[28]\n",
      "\n",
      "Gandhi and his sister, Priyanka Gandhi managed their mother's campaign for re-election to Raebareilly in 2006, which was won with a victory margin of over 400,000 votes.[29] He was a prominent figure in the Congress campaign for the 2007 Uttar Pradesh Legislative Assembly election; Congress, however, did not perform well in those elections winning only 22 seats of the 403 seats with 8.53% of votes.[30] On 24 September 2007, Gandhi was appointed as the General Secretary of the All India Congress Committee, which is the governing body of the Congress party. This appointment was part of a reshuffle of the party secretariat.[31] In the same reshuffle, he was also given charge of the Indian Youth Congress and the National Students Union of India.[32]\n",
      "\n",
      "In September 2007, Gandhi was appointed as general secretary of the Indian Youth Congress (IYC), segment of the Congress party that represents the younger generation and the National Students Union of India (NSUI) the faction that caters to the student community.[33] As the general secretary of the Indian Youth Congress (IYC) and the National Students Union of India (NSUI), Gandhi played a notable role in shaping the policies and strategies of these organisations. Under him, the IYC and NSUI have seen a dramatic increase in members from 200,000 to 2.5 million.[34]\n",
      "\n",
      "Indian Youth Congress (IYC) underwent a restructuring process to make it more democratic and inclusive.[35][36] In November 2008, Gandhi held interviews at his 12 Tughlak Lane residence in New Delhi to handpick at least 40 people who will make up the think-tank of the Indian Youth Congress (IYC).[37] In 2009, during Gandhi's visit to West Bengal, the state unit of the Youth Congress registered 1 million members.[38] Similarly, the IYC was only able to acquire around 10 to 15 new members per day in each assembly segment of Uttar Pradesh. However, after Gandhi's visit, the number surged to 150 to 200 new members per day in the same regions.[39]\n",
      "\n",
      "While serving as the general secretary of the National Students Union of India (NSUI), Gandhi played an active role in strengthening the organisation and increasing student participation in politics.[35] Under his leadership, the NSUI initiated programs and campaigns to address issues affecting the student community, such as the quality of education, employment opportunities, and social justice.[40][41][42] Gandhi also advocated for greater student representation in decision-making processes and supported student leaders in their endeavours.[43]\n",
      "\n",
      "Election Commission of India announced the 14th General Elections which was held in five phases between 16 April 2009 and 13 May 2009 to elect the members of the 15th Lok Sabha. Gandhi campaigned across India covering 22 states and 107 constituencies.[44][45] His campaigning included addressing public rallies and meetings, interacting with voters, and highlighting the party's vision and agenda for the country.[46] He specifically focused on issues such as rural development, education, employment, and women's empowerment. Gandhi, also emphasised the importance of youth participation in politics and urged them to be more involved in shaping the country's future.[47]\n",
      "\n",
      "The nationwide elections defied the predictions made by pre-poll predictions and exit polls and gave a clear mandate to the incumbent Congress-led UPA government.[48]\n",
      "However, the Congress did not win a majority in the election, they emerged as the largest party and formed a coalition government with the support of other parties.[49] Gandhi retained his Amethi seat by defeating his nearest rival by a margin of over 370,000 votes.[50] Gandhi was credited with the Congress revival in Uttar Pradesh where they won 21 out of the total 80 Lok Sabha seats.[51][52]\n",
      "\n",
      "Gandhi campaigned during the 2012 Assembly elections in the politically crucial Uttar Pradesh election for almost two months, holding 200 rallies. However, Congress ranked as the fourth party in the state, winning 28 seats, an increase of six seats from the previous 2007 elections. Out of the 15 seats in the Amethi parliamentary constituency, Congress won two.[53][54]\n",
      "\n",
      "Congress activists defended the result in Uttar Pradesh, saying \"there's a big difference between state elections and national polls and in the end, there is only the first family, a hope and a prayer\",[55] and pointing out the turn around attributed to Gandhi in the 2009 Lok Sabha national elections in the state. However, Gandhi publicly accepted responsibility for the result in an interview after the result was declared.[56]\n",
      "\n",
      "In the Gujarat assembly elections held later in the year, Gandhi was not made the head of the election campaign. This was seen and regarded by opponents as an admission of defeat and was termed as a tactic to avoid the blame of defeat.[57][58][59] Congress won 57 seats in the assembly of 182, which was 2 less than the previous elections in 2007. Later in bypolls, Congress lost 4 more seats to BJP.[60]\n",
      "\n",
      "Gandhi contested the 2014 Indian general election from his constituency, Amethi,[61] and led the election campaign of the Indian National Congress.[62] Gandhi held the Amethi seat by defeating his nearest rival, BJP's Smriti Irani, by a reduced margin of 107,000 votes.[52][63] Under his leadership, the Indian National Congress suffered its worst-ever performance in elections and won only 44 seats compared to 206 seats won previously in the 2009 general election.[64][65] The Congress-led United Progressive Alliance (UPA) also had its worst-ever performance in elections and won only 59 seats compared to 262 seats won previously in the 2009 general election.[65][66][67] After the defeat, Gandhi offered to resign his posts, only to be rejected by the party's working committee.[68]\n",
      "\n",
      "In the National Herald corruption case, the Delhi High Court dismissed the appeals of Sonia Gandhi, and five others which included Motilal Vora, Oscar Fernandes, Suman Dubey, and Satyan Pitroda in December 2015,[69] and ordered them to appear in person before the trial court on 9 December.[70] In 2016, Gandhi was granted an exemption by the Supreme Court of India in 2016.\n",
      "In December 2020, the Delhi court dismissed a petition filed by then BJP leader Subramanian Swamy seeking to summon Gandhi, Sonia Gandhi, and others as accused in the case. The court held that there was no prima facie evidence to suggest their involvement in any corruption conspiracy. The Congress party, raised objections to the complaint filed by Subramanian Swamy, labelling it as “politically motivated”.[71]\n",
      "\n",
      "Gandhi used the slogan \"Chowkidar Chor Hai\" as a jibe against Narendra Modi, BJP's Prime Ministerial candidate for the 2019 Indian general election.[72][73] The slogan was aimed at Modi about the alleged irregularities and favoritism in awarding the contracts for the Rafale fighter jet deal.[74][75] The said case was considered by the Supreme Court of India and after carefully going through all the evidence, the high court dismissed the case and exonerated the current government of India.[76]\n",
      "\n",
      "Gandhi led the election campaign of the Indian National Congress party. Under his leadership, the party improved its seat count from 44 out of 543 in 2014 to 52 out of 542 in 2019. It also boosted its vote from 19.3% to 19.5% in 2019. The Indian National Congress won 52 seats, failing to get 10% of the seats needed to claim the post of Leader of Opposition. After this poor performance in the election, Gandhi resigned as party leader and was succeeded by his mother, Sonia Gandhi. Gandhi contested the 2019 Lok Sabha election from two constituencies, Amethi, Uttar Pradesh[77] and Wayanad, Kerala.[78] Gandhi won the Wayanad seat in the 2019 general elections with over 60 percent vote share.[79] However, he lost his existing seat of Amethi to Smriti Irani of the BJP by a margin of 55,120 votes.[80]\n",
      "\n",
      "Bharat Jodo Yatra, literally a ‘unite India march’ was started by Gandhi on 7 September 2022. Starting from Kanyakumari to reach Kashmir, the march covered 4,080 kilometres (2,540 miles) in nearly five months across 12 states and two union territories.[81][82] During the march, the INC elected a new party president and also won a majority in the 2022 Himachal Pradesh Legislative Assembly election, its first majority it won by itself since 2018.\n",
      "\n",
      "On 23 March 2023, Gandhi was convicted and sentenced to two years imprisonment by a court in Surat, Gujarat, under charges of defamation related to remarks he had made against Narendra Modi during the 2019 Indian general election campaign.[2][83] The case was filed by the Bharatiya Janata Party MLA Purnesh Modi who alleged he had defamed everyone who held the surname Modi. The judgement passed by the Chief Judicial Magistrate H. H.Verma held Gandhi to be guilty and stated that the entire \"Modi community\" was defamed when he had asked \"Why do all these thieves have the name Modi?\" during a speech comparing Narendra Modi with economic offenders such as Nirav Modi and Lalit Modi.[83] Legal experts have questioned the basis of the charge as defamation is only actionable against individuals and not a generic class of people.[2]\n",
      "\n",
      "Gandhi's lawyers have stated that they would appeal at a higher court and have secured a one-month stay on the sentence.[84] The conviction's coming into force would disqualify him from holding any public office and make him ineligible to contest in the upcoming 2024 Indian general election.[2][85]\n",
      "\n",
      "On 24 March, a notification was issued from the Lok Sabha Secretariat and affirmed by the speaker Om Birla which disqualified Gandhi as a member of Parliament effective 23 March, amidst differing views among legal experts on whether a stay on sentencing and conviction should lead to immediate disqualification.[86][87]\n",
      "\n",
      "Gandhi has held the following positions;[88]\n",
      "\n",
      "\n",
      "In December 2010 during the United States diplomatic cables leak, WikiLeaks leaked a cable dated 3 August 2009, where the Prime Minister of India, Manmohan Singh had hosted a lunch on 20 July 2009 for Gandhi, then the General Secretary of the AICC. One of the guests who was invited for the lunch was the United States Ambassador to India, Timothy J. Roemer. In a \"candid conversation\" with Roemer, he said that he believes Hindu extremists pose a greater threat to his country than Muslim militants. Gandhi referred specifically to more-polarising figures in the Bharatiya Janata Party. Also responding to the ambassador's query about the activities in the region by the Islamist militant organization Lashkar-e-Taiba (LeT), Gandhi said there was evidence of some support for the group among certain elements in India's indigenous Muslim population.[89][90] In a response to this, the BJP heavily criticized Gandhi for his statements. BJP spokesperson Ravi Shankar Prasad slammed Gandhi, saying that his language was a bigger threat to India, dividing the people of the country on communal grounds. Speaking to reporters, Prasad said, \"In one stroke Mr. Rahul Gandhi has sought to give a big leverage to the propaganda to all the extremist and terrorist groups in Pakistan, and also some segments of the Pakistani establishment. It would also seriously compromise India's fight against terror as also our strategic security. \"Adding that terrorism has no religion, he said that Rahul Gandhi had shown his lack of understanding India.[91] Gandhi has also been critical of groups like the RSS and has compared them to terrorist organizations like SIMI.[92][93]\n",
      "After the 2013 Muzaffarnagar riots, at a Madhya Pradesh election rally in Indore, Gandhi claimed that a police officer told him that Pakistan's ISI was trying to recruit disgruntled riot-affected youngsters.[94][95] However, the district administration, the UP state government, the Union Home Ministry, the Research and Analysis Wing (RAW) and the Intelligence Bureau (IB) denied any such development.[96][97] This remark drew heavy criticism from various political outfits such as BJP, SP, CPI and JD(U).[98] Congress's Jairam Ramesh said Gandhi needed to apologise to the Muslim community for this remark.[99] In reply to the ECI's show-cause notice to explain why action should not be initiated against him for violating the Model Code of Conduct, Gandhi said that he didn't intend to exploit communal sentiments but was referring to divisive politics.[100]\n",
      "\n",
      "The BJP also asked the government to explain why Gandhi, who holds no post in the government, is being briefed by intelligence officers on important security issues.[101] On 13 November 2013, the Election Commission of India found Gandhi's explanation to be insufficient conveyed its displeasure and advised him to be more circumspect in his public utterances during election campaigns.[102]\n",
      "\n",
      "Gandhi opines that the Lokpal should be made a constitutional body and it should be made accountable to the Parliament, just like the Election Commission of India. He opined that Lokpal alone cannot root out corruption, rather a strong political will is needed to remove corruption. This statement came out on 25 August 2011, on the 10th day of Anna Hazare's fast. Gandhi's statement was considered a delaying tactic by the opposition and Team Anna's members. It was consequently slammed by opposition leaders Sushma Swaraj and Arun Jaitley.[103] The Parliamentary Standing Committee led by Abhishek Manu Singhvi tabled the Jan Lokpal Bill report in the Rajya Sabha on 9 December 2011. The report recommended the Lokpal be made into a constitutional body.\n",
      "\n",
      "On 19 April 2015 Gandhi addressed the farmer and worker's rally, named as Kisan Khet Mazdoor Rally in Ramlila Maidan. Here he made \"references to his agitations in Niyamgiri in Orissa and Bhatta-Parsaul in Greater Noida in Uttar Pradesh\".[104] The rally was attended by 1 lakh people. In the speech he gave, he criticized the Indian prime minister Narendra Modi about his comment in Toronto where he said that he was \"cleaning the mess created by previous governments\".[105] He also said \"Do you know how Modi won the election?.. He borrowed thousands of crores from industrialists for his several campaigns and advertisements. How will he pay them back? He will pay them back with your land. He will give your land to his industrialist friends.\"[104]\n",
      "\n",
      "He razzed the government as a \"suit-boot government\", a reference to Modi's monogrammed suit which he wore in the Republic Day meeting with Barack Obama. Moreover, he used the \"acche din government\" jibe (which was Modi's election campaign slogan meaning \"good days government\") and mentioned that it had \"failed the country\".[106]\n",
      "\n",
      "A land bill was introduced by the BJP government in the parliament in May which was criticized by the opposition parties.[107] Accusing the government of \"murdering\" UPA's land bill,[108] Gandhi promised to prevent the bill from being passed, if not in the parliament then would \"stop you [ BJP government] on streets\". He further accused the government of diluting the bill and called it \"anti-farmer\".[107] Gandhi also drew a parallel between \"daylight robbery\" and the bill.[109] On 26 May, the day of the Modi government's first anniversary, Gandhi commented at a rally in Kozhikode \"Unfortunately, birthday celebrations is only for a few powerful friends of the government. Kisan, farmers and mazdoor have nothing to celebrate.\" [110]\n",
      "\n",
      "Gandhi has spoken publicly about the importance of women's empowerment and gender equality in India.[111][112] For instance, he has called for increased representation of women in politics and for the eradication of gender-based violence.[113][114][115] Under second Manmohan Singh ministry, Women's Reservation Bill which would allow 33 per cent reservation of all Lok Sabha and state legislative assembly seats for women, was introduced in the Rajya Sabha.   \n",
      "Gandhi backed the Women's Reservation Bill stating, \"Women do not need any protection. If you give them their rights, they can protect themselves\".[116] This bill was passed the Rajya Sabha on 9 March 2010, stating that the reservation would no longer be in effect after 15 years from its implementation. To become a law, the Lok Sabha needed to pass the bill and it had to be ratified by at least half of India's legislative assemblies. The bill, however, never went to a vote in the Lok Sabha and eventually lapsed due to its pending status.[117][118][119][120] In 2019, while addressing students in Chennai, Gandhi has again called for 33 per cent reservation of all parliamentary Lok Sabha and state legislative assembly seats for women, as well as government jobs.[121]\n",
      "\n",
      "On 6 September 2018, the Supreme Court of India revoked Section 377 of the Indian Penal Code, an act which criminalized homosexual sex between adults. Gandhi had backed the repeal of Section 377 of the Indian Penal Code and the decriminalization of homosexuality, stating that he believed that issues related to personal freedom should be left to the individual.[122]\n",
      "\n",
      "Rahul Gandhi launched the yatra on 7 September 2022 at Kanyakumari after paying tributes to his late father Rajiv Gandhi, Swami Vivekananda, and the Tamil poet Thiruvalluvar. The Congress said the yatra was \"India's biggest mass contact program\", during which the concerns of the people will reach Delhi.[123] After unfurling the tricolour flag at the Srinagar's historic Lal Chowk, which marked the end of 137-day-long foot march from Kanyakumari to Kashmir, Congress leader Rahul Gandhi said that the Bharat Jodo Yatra has given an alternative vision of the politics to the country. Rahul Gandhi unfurled that national flag at the historic clock tower and sang the national anthem to send a strong message of nationalism.[124]\n",
      "\n",
      "Rahul Gandhi has been very concerned about the environmental degradation of the world and has said that unless they are not made a political issue, they won't get the attention they deserve.[125][126]\n",
      "\n",
      "Rahul Gandhi criticized Environment Impact Assessment (EIA) 2020 draft by calling it \"dangerous\" and said that its long term consequences will be harmful. Calling it a disaster, he said that it will silence the communities who will get directly impacted by environmental degradation.[127][128]\n",
      "\n",
      "Gandhi while addressing All India Congress Committee (AICC) in Jaipur, called for an end to red tape and outdated laws that slow job creation.[129]\n",
      "Gandhi views the economic policies of Modi Government as fundamentally to benefit the 2-3 billionaires and has described them as crony capitalists.[130] Calling the \"crony capitalists\" as best friends of Modi,[131] he has been critical of the privatization of government assets.[132] He is of the view that RSS and crony capitalists are colluding to control India.[133] He has been specifically harsh on Indian Billionaire Gautam Adani and said that Modi Government has been very favourable towards Adani.[134][135][136] He sees the rise of Adani as a direct consequence of crony capitalism.[137][138] He said that he is not anti-business and supports fairness.[139] Disagreeing with privatization of PSUs, he said that Congress will not allow the privatization if it comes to power.[140][141][142] Citing the report on inequality by Oxfam, he said that rising economic inequality is the result of Modi Government's economic policies.[143][144][145]\n",
      "\n",
      "Gandhi has been very critical of the Modi government's demonetization of ₹500 and ₹1,000 banknotes of the Mahatma Gandhi Series.[146] He has called it a \"tragedy\" and a \"disaster\" that has negatively impacted the Indian economy and the lives of ordinary citizens. Gandhi has also accused the government of carrying out the policy without adequate planning and causing immense hardship to the poor and vulnerable sections of society. He said that demonetization is a fundamental failure of policy design[147] and has alleged that it was a deliberate move by \"PayPM\" to help 2-3 billionaires to monopolize the economy. Terming demonetisation as the country's “biggest scam”,[148]\n",
      "\n",
      "During his public speeches and political rallies, Gandhi has consistently criticized the demonetization move, claiming that it failed to achieve its intended objectives of combating black money and curbing corruption.[149] He has also argued that the policy was implemented without proper consultation with experts or the opposition parties. Gandhi further asserted that, demonetization caused significant disruption to farmers, and rendered millions jobless in small and medium-sized businesses, and workers in the informal sector.[150][151]\n"
     ]
    },
    {
     "name": "stderr",
     "output_type": "stream",
     "text": [
      "\n"
     ]
    }
   ],
   "source": [
    "para = \"\"\n",
    "for p in tqdm(soup.find_all(\"p\")):\n",
    "    para += p.text\n",
    "    para += \"\\n\"\n",
    "para = para.strip()\n",
    "print(para)\n",
    "    "
   ]
  },
  {
   "cell_type": "code",
   "execution_count": 5,
   "id": "bd016f61",
   "metadata": {},
   "outputs": [],
   "source": [
    "for i in range(1,152):\n",
    "    para = para.replace('['+str(i)+']','')"
   ]
  },
  {
   "cell_type": "code",
   "execution_count": 6,
   "id": "0fbde544",
   "metadata": {},
   "outputs": [
    {
     "name": "stdout",
     "output_type": "stream",
     "text": [
      "Rahul Rajiv Gandhi (Hindi pronunciation: [ˈraːɦʊl ˈɡaːndʱiː] (listen); born 19 June 1970) is an Indian politician and a former member of the Indian Parliament, who represented the constituencies of Amethi, Uttar Pradesh and Wayanad, Kerala in the Lok Sabha. He is a member of the main opposition party, the Indian National Congress and was the party president from December 2017 to July 2019. He is the chairperson of the Indian Youth Congress, the National Students Union of India and a trustee of the Rajiv Gandhi Foundation and Rajiv Gandhi Charitable Trust. On 23 March 2023, he was convicted and sentenced to two years imprisonment by a court in Gujarat for a 2019 speech made against the Prime Minister Narendra Modi on defamation allegations related to his surname; the conviction resulted in his disqualification from the Parliament.\n",
      "\n",
      "Born in New Delhi, Gandhi spent his early childhood between Delhi and Dehradun and stayed away from the public sphere for much of his childhood and early youth. He attained primary education in New Delhi and Dehradun but was later homeschooled because of security concerns. He began his undergraduate career at St. Stephen's College before moving to Harvard University. Later he transferred to Rollins College in Florida, from which he graduated in 1994 due to security threats following the assassination of his father, the late Prime Minister Rajiv Gandhi. The next year, he obtained his M.Phil. from Cambridge. Post-graduation, he began his professional career with the Monitor Group, a management consulting firm in London. He soon returned to India and established the Mumbai-based technology outsourcing firm, Backops Services Private Ltd.\n",
      "\n",
      "In 2004, Gandhi announced his entrance to politics and successfully contested the general elections held that year from Amethi, a seat that was earlier held by his father; he won again from the constituency in 2009 and 2014. Amidst calls from Congress party veterans for his greater involvement in party politics and national government, he was elected Congress vice-president in 2013, having served as the general secretary previously. He led the Congress' campaign in the 2014 Indian general elections; the party suffered its worst electoral result in its history, winning only 44 seats compared to 206 seats won previously in the 2009 general election. In 2017, he succeeded his mother as Congress party leader and led the party into the 2019 Indian general election. The party won 52 seats, failing to get 10% of the seats needed to claim the post of leader of the opposition. After this poor performance in the election, he resigned as party leader and was succeeded by his mother, Sonia Gandhi, on an interim basis.\n",
      "\n",
      "Gandhi was born in Delhi on 19 June 1970, as the first of the two children of Rajiv Gandhi, who later became the prime minister of India, and Italian-born Sonia Gandhi (née Maino), who later became the president of Indian National Congress, and as the grandson of Prime Minister Indira Gandhi. His paternal grandfather Feroze Gandhi was a Parsi from Gujarat. He is also the great-grandson of India's first prime minister, Jawaharlal Nehru. Priyanka Vadra is his younger sister and Robert Vadra is his brother-in-law.\n",
      "\n",
      "Gandhi attended St. Columba's School, Delhi before entering the all-boys' boarding The Doon School in Dehradun (also the alma mater of his father, Rajiv Gandhi) from 1981 to 1983. Meanwhile, his father joined politics and became the prime minister on 31 October 1984 when Indira Gandhi was assassinated. Due to the security threats faced by Indira Gandhi's family from Sikh extremists, Gandhi, and his sister, Priyanka was home-schooled thereafter.\n",
      "\n",
      "Gandhi joined St. Stephen's College, Delhi (an affiliated college of the University of Delhi), in 1989 for his undergraduate education but moved to Harvard University after he completed the first year examinations. In 1991, after Rajiv Gandhi was assassinated by the Tamil Tigers (LTTE) during an election rally, he shifted to Rollins College in Florida, USA, supposedly due to security concerns and obtained his B.A. in 1994. During his time at Rollins, he assumed the pseudonym Raul Vinci and his identity was known only to the university officials and security agencies. He further went on to obtain an Master of Philosophy (MPhil) from Trinity College, Cambridge in 1995.\n",
      "\n",
      "Before joining politics, Gandhi, worked at the Monitor Group, a management consulting firm, in London for three years. In 2002, Gandhi returned to India and set up his technology consultancy viz. Backops Services Private Ltd in Mumbai, where he was one of the directors of the firm. He then opened BackOps UK, a firm which used to acquire defence contracts from foreign companies that supplied to the Indian armed forces. Subramanian Swamy pointed out that Rahul Gandhi declared himself as British citizen in the company's filings but the Congress party said that it was a yearly mistake.\n",
      "\n",
      "In March 2004, Gandhi announced his entry into politics by declaring that he would contest the 14th general elections from his father's former constituency of Amethi in Uttar Pradesh for the Lok Sabha, which is India's lower house of Parliament. His mother had held the seat until she transferred to the neighboring constituency of Raebareli.  When Gandhi made this announcement, it came as a surprise to political commentators who had perceived his sister Priyanka Gandhi as the more charismatic and probable successor. It generated speculation that the presence of a young member of India's most famous political family would reinvigorate the Congress party's political fortunes among India's youthful population In his first interview with foreign media, Gandhi portrayed himself as an uniter of the country and condemned \"divisive\" politics in India, saying that he would try to reduce caste and religious tensions.\n",
      "\n",
      "After being out of power for a record eight years, the Congress party returned to power winning a total of 145 seats, in the 2004 Indian general election. A coalition government was formed at the center by Congress with the backing of regional parties. Gandhi secured a victory by a substantial margin of over 100,000 votes, thereby maintaining the stronghold of his family in Uttar Pradesh. However, the party performed poorly in Uttar Pradesh, as it held only 10 out of the 80 Lok Sabha seats in the state, with a vote share of 12.53 per cent.  He did not hold any official role or position within the government. From 2004 to 2006, Gandhi served as a member for the Standing Committee on Home Affairs. Between 2006 and 2009, he served as the a member of the Standing Committee on Human Resource Development.\n",
      "\n",
      "Gandhi and his sister, Priyanka Gandhi managed their mother's campaign for re-election to Raebareilly in 2006, which was won with a victory margin of over 400,000 votes. He was a prominent figure in the Congress campaign for the 2007 Uttar Pradesh Legislative Assembly election; Congress, however, did not perform well in those elections winning only 22 seats of the 403 seats with 8.53% of votes. On 24 September 2007, Gandhi was appointed as the General Secretary of the All India Congress Committee, which is the governing body of the Congress party. This appointment was part of a reshuffle of the party secretariat. In the same reshuffle, he was also given charge of the Indian Youth Congress and the National Students Union of India.\n",
      "\n",
      "In September 2007, Gandhi was appointed as general secretary of the Indian Youth Congress (IYC), segment of the Congress party that represents the younger generation and the National Students Union of India (NSUI) the faction that caters to the student community. As the general secretary of the Indian Youth Congress (IYC) and the National Students Union of India (NSUI), Gandhi played a notable role in shaping the policies and strategies of these organisations. Under him, the IYC and NSUI have seen a dramatic increase in members from 200,000 to 2.5 million.\n",
      "\n",
      "Indian Youth Congress (IYC) underwent a restructuring process to make it more democratic and inclusive. In November 2008, Gandhi held interviews at his 12 Tughlak Lane residence in New Delhi to handpick at least 40 people who will make up the think-tank of the Indian Youth Congress (IYC). In 2009, during Gandhi's visit to West Bengal, the state unit of the Youth Congress registered 1 million members. Similarly, the IYC was only able to acquire around 10 to 15 new members per day in each assembly segment of Uttar Pradesh. However, after Gandhi's visit, the number surged to 150 to 200 new members per day in the same regions.\n",
      "\n",
      "While serving as the general secretary of the National Students Union of India (NSUI), Gandhi played an active role in strengthening the organisation and increasing student participation in politics. Under his leadership, the NSUI initiated programs and campaigns to address issues affecting the student community, such as the quality of education, employment opportunities, and social justice. Gandhi also advocated for greater student representation in decision-making processes and supported student leaders in their endeavours.\n",
      "\n",
      "Election Commission of India announced the 14th General Elections which was held in five phases between 16 April 2009 and 13 May 2009 to elect the members of the 15th Lok Sabha. Gandhi campaigned across India covering 22 states and 107 constituencies. His campaigning included addressing public rallies and meetings, interacting with voters, and highlighting the party's vision and agenda for the country. He specifically focused on issues such as rural development, education, employment, and women's empowerment. Gandhi, also emphasised the importance of youth participation in politics and urged them to be more involved in shaping the country's future.\n",
      "\n",
      "The nationwide elections defied the predictions made by pre-poll predictions and exit polls and gave a clear mandate to the incumbent Congress-led UPA government.\n",
      "However, the Congress did not win a majority in the election, they emerged as the largest party and formed a coalition government with the support of other parties. Gandhi retained his Amethi seat by defeating his nearest rival by a margin of over 370,000 votes. Gandhi was credited with the Congress revival in Uttar Pradesh where they won 21 out of the total 80 Lok Sabha seats.\n",
      "\n",
      "Gandhi campaigned during the 2012 Assembly elections in the politically crucial Uttar Pradesh election for almost two months, holding 200 rallies. However, Congress ranked as the fourth party in the state, winning 28 seats, an increase of six seats from the previous 2007 elections. Out of the 15 seats in the Amethi parliamentary constituency, Congress won two.\n",
      "\n",
      "Congress activists defended the result in Uttar Pradesh, saying \"there's a big difference between state elections and national polls and in the end, there is only the first family, a hope and a prayer\", and pointing out the turn around attributed to Gandhi in the 2009 Lok Sabha national elections in the state. However, Gandhi publicly accepted responsibility for the result in an interview after the result was declared.\n",
      "\n",
      "In the Gujarat assembly elections held later in the year, Gandhi was not made the head of the election campaign. This was seen and regarded by opponents as an admission of defeat and was termed as a tactic to avoid the blame of defeat. Congress won 57 seats in the assembly of 182, which was 2 less than the previous elections in 2007. Later in bypolls, Congress lost 4 more seats to BJP.\n",
      "\n",
      "Gandhi contested the 2014 Indian general election from his constituency, Amethi, and led the election campaign of the Indian National Congress. Gandhi held the Amethi seat by defeating his nearest rival, BJP's Smriti Irani, by a reduced margin of 107,000 votes. Under his leadership, the Indian National Congress suffered its worst-ever performance in elections and won only 44 seats compared to 206 seats won previously in the 2009 general election. The Congress-led United Progressive Alliance (UPA) also had its worst-ever performance in elections and won only 59 seats compared to 262 seats won previously in the 2009 general election. After the defeat, Gandhi offered to resign his posts, only to be rejected by the party's working committee.\n",
      "\n",
      "In the National Herald corruption case, the Delhi High Court dismissed the appeals of Sonia Gandhi, and five others which included Motilal Vora, Oscar Fernandes, Suman Dubey, and Satyan Pitroda in December 2015, and ordered them to appear in person before the trial court on 9 December. In 2016, Gandhi was granted an exemption by the Supreme Court of India in 2016.\n",
      "In December 2020, the Delhi court dismissed a petition filed by then BJP leader Subramanian Swamy seeking to summon Gandhi, Sonia Gandhi, and others as accused in the case. The court held that there was no prima facie evidence to suggest their involvement in any corruption conspiracy. The Congress party, raised objections to the complaint filed by Subramanian Swamy, labelling it as “politically motivated”.\n",
      "\n",
      "Gandhi used the slogan \"Chowkidar Chor Hai\" as a jibe against Narendra Modi, BJP's Prime Ministerial candidate for the 2019 Indian general election. The slogan was aimed at Modi about the alleged irregularities and favoritism in awarding the contracts for the Rafale fighter jet deal. The said case was considered by the Supreme Court of India and after carefully going through all the evidence, the high court dismissed the case and exonerated the current government of India.\n",
      "\n",
      "Gandhi led the election campaign of the Indian National Congress party. Under his leadership, the party improved its seat count from 44 out of 543 in 2014 to 52 out of 542 in 2019. It also boosted its vote from 19.3% to 19.5% in 2019. The Indian National Congress won 52 seats, failing to get 10% of the seats needed to claim the post of Leader of Opposition. After this poor performance in the election, Gandhi resigned as party leader and was succeeded by his mother, Sonia Gandhi. Gandhi contested the 2019 Lok Sabha election from two constituencies, Amethi, Uttar Pradesh and Wayanad, Kerala. Gandhi won the Wayanad seat in the 2019 general elections with over 60 percent vote share. However, he lost his existing seat of Amethi to Smriti Irani of the BJP by a margin of 55,120 votes.\n",
      "\n",
      "Bharat Jodo Yatra, literally a ‘unite India march’ was started by Gandhi on 7 September 2022. Starting from Kanyakumari to reach Kashmir, the march covered 4,080 kilometres (2,540 miles) in nearly five months across 12 states and two union territories. During the march, the INC elected a new party president and also won a majority in the 2022 Himachal Pradesh Legislative Assembly election, its first majority it won by itself since 2018.\n",
      "\n",
      "On 23 March 2023, Gandhi was convicted and sentenced to two years imprisonment by a court in Surat, Gujarat, under charges of defamation related to remarks he had made against Narendra Modi during the 2019 Indian general election campaign. The case was filed by the Bharatiya Janata Party MLA Purnesh Modi who alleged he had defamed everyone who held the surname Modi. The judgement passed by the Chief Judicial Magistrate H. H.Verma held Gandhi to be guilty and stated that the entire \"Modi community\" was defamed when he had asked \"Why do all these thieves have the name Modi?\" during a speech comparing Narendra Modi with economic offenders such as Nirav Modi and Lalit Modi. Legal experts have questioned the basis of the charge as defamation is only actionable against individuals and not a generic class of people.\n",
      "\n",
      "Gandhi's lawyers have stated that they would appeal at a higher court and have secured a one-month stay on the sentence. The conviction's coming into force would disqualify him from holding any public office and make him ineligible to contest in the upcoming 2024 Indian general election.\n",
      "\n",
      "On 24 March, a notification was issued from the Lok Sabha Secretariat and affirmed by the speaker Om Birla which disqualified Gandhi as a member of Parliament effective 23 March, amidst differing views among legal experts on whether a stay on sentencing and conviction should lead to immediate disqualification.\n",
      "\n",
      "Gandhi has held the following positions;\n",
      "\n",
      "\n",
      "In December 2010 during the United States diplomatic cables leak, WikiLeaks leaked a cable dated 3 August 2009, where the Prime Minister of India, Manmohan Singh had hosted a lunch on 20 July 2009 for Gandhi, then the General Secretary of the AICC. One of the guests who was invited for the lunch was the United States Ambassador to India, Timothy J. Roemer. In a \"candid conversation\" with Roemer, he said that he believes Hindu extremists pose a greater threat to his country than Muslim militants. Gandhi referred specifically to more-polarising figures in the Bharatiya Janata Party. Also responding to the ambassador's query about the activities in the region by the Islamist militant organization Lashkar-e-Taiba (LeT), Gandhi said there was evidence of some support for the group among certain elements in India's indigenous Muslim population. In a response to this, the BJP heavily criticized Gandhi for his statements. BJP spokesperson Ravi Shankar Prasad slammed Gandhi, saying that his language was a bigger threat to India, dividing the people of the country on communal grounds. Speaking to reporters, Prasad said, \"In one stroke Mr. Rahul Gandhi has sought to give a big leverage to the propaganda to all the extremist and terrorist groups in Pakistan, and also some segments of the Pakistani establishment. It would also seriously compromise India's fight against terror as also our strategic security. \"Adding that terrorism has no religion, he said that Rahul Gandhi had shown his lack of understanding India. Gandhi has also been critical of groups like the RSS and has compared them to terrorist organizations like SIMI.\n",
      "After the 2013 Muzaffarnagar riots, at a Madhya Pradesh election rally in Indore, Gandhi claimed that a police officer told him that Pakistan's ISI was trying to recruit disgruntled riot-affected youngsters. However, the district administration, the UP state government, the Union Home Ministry, the Research and Analysis Wing (RAW) and the Intelligence Bureau (IB) denied any such development. This remark drew heavy criticism from various political outfits such as BJP, SP, CPI and JD(U). Congress's Jairam Ramesh said Gandhi needed to apologise to the Muslim community for this remark. In reply to the ECI's show-cause notice to explain why action should not be initiated against him for violating the Model Code of Conduct, Gandhi said that he didn't intend to exploit communal sentiments but was referring to divisive politics.\n",
      "\n",
      "The BJP also asked the government to explain why Gandhi, who holds no post in the government, is being briefed by intelligence officers on important security issues. On 13 November 2013, the Election Commission of India found Gandhi's explanation to be insufficient conveyed its displeasure and advised him to be more circumspect in his public utterances during election campaigns.\n",
      "\n",
      "Gandhi opines that the Lokpal should be made a constitutional body and it should be made accountable to the Parliament, just like the Election Commission of India. He opined that Lokpal alone cannot root out corruption, rather a strong political will is needed to remove corruption. This statement came out on 25 August 2011, on the 10th day of Anna Hazare's fast. Gandhi's statement was considered a delaying tactic by the opposition and Team Anna's members. It was consequently slammed by opposition leaders Sushma Swaraj and Arun Jaitley. The Parliamentary Standing Committee led by Abhishek Manu Singhvi tabled the Jan Lokpal Bill report in the Rajya Sabha on 9 December 2011. The report recommended the Lokpal be made into a constitutional body.\n",
      "\n",
      "On 19 April 2015 Gandhi addressed the farmer and worker's rally, named as Kisan Khet Mazdoor Rally in Ramlila Maidan. Here he made \"references to his agitations in Niyamgiri in Orissa and Bhatta-Parsaul in Greater Noida in Uttar Pradesh\". The rally was attended by 1 lakh people. In the speech he gave, he criticized the Indian prime minister Narendra Modi about his comment in Toronto where he said that he was \"cleaning the mess created by previous governments\". He also said \"Do you know how Modi won the election?.. He borrowed thousands of crores from industrialists for his several campaigns and advertisements. How will he pay them back? He will pay them back with your land. He will give your land to his industrialist friends.\"\n",
      "\n",
      "He razzed the government as a \"suit-boot government\", a reference to Modi's monogrammed suit which he wore in the Republic Day meeting with Barack Obama. Moreover, he used the \"acche din government\" jibe (which was Modi's election campaign slogan meaning \"good days government\") and mentioned that it had \"failed the country\".\n",
      "\n",
      "A land bill was introduced by the BJP government in the parliament in May which was criticized by the opposition parties. Accusing the government of \"murdering\" UPA's land bill, Gandhi promised to prevent the bill from being passed, if not in the parliament then would \"stop you [ BJP government] on streets\". He further accused the government of diluting the bill and called it \"anti-farmer\". Gandhi also drew a parallel between \"daylight robbery\" and the bill. On 26 May, the day of the Modi government's first anniversary, Gandhi commented at a rally in Kozhikode \"Unfortunately, birthday celebrations is only for a few powerful friends of the government. Kisan, farmers and mazdoor have nothing to celebrate.\" \n",
      "\n",
      "Gandhi has spoken publicly about the importance of women's empowerment and gender equality in India. For instance, he has called for increased representation of women in politics and for the eradication of gender-based violence. Under second Manmohan Singh ministry, Women's Reservation Bill which would allow 33 per cent reservation of all Lok Sabha and state legislative assembly seats for women, was introduced in the Rajya Sabha.   \n",
      "Gandhi backed the Women's Reservation Bill stating, \"Women do not need any protection. If you give them their rights, they can protect themselves\". This bill was passed the Rajya Sabha on 9 March 2010, stating that the reservation would no longer be in effect after 15 years from its implementation. To become a law, the Lok Sabha needed to pass the bill and it had to be ratified by at least half of India's legislative assemblies. The bill, however, never went to a vote in the Lok Sabha and eventually lapsed due to its pending status. In 2019, while addressing students in Chennai, Gandhi has again called for 33 per cent reservation of all parliamentary Lok Sabha and state legislative assembly seats for women, as well as government jobs.\n",
      "\n",
      "On 6 September 2018, the Supreme Court of India revoked Section 377 of the Indian Penal Code, an act which criminalized homosexual sex between adults. Gandhi had backed the repeal of Section 377 of the Indian Penal Code and the decriminalization of homosexuality, stating that he believed that issues related to personal freedom should be left to the individual.\n",
      "\n",
      "Rahul Gandhi launched the yatra on 7 September 2022 at Kanyakumari after paying tributes to his late father Rajiv Gandhi, Swami Vivekananda, and the Tamil poet Thiruvalluvar. The Congress said the yatra was \"India's biggest mass contact program\", during which the concerns of the people will reach Delhi. After unfurling the tricolour flag at the Srinagar's historic Lal Chowk, which marked the end of 137-day-long foot march from Kanyakumari to Kashmir, Congress leader Rahul Gandhi said that the Bharat Jodo Yatra has given an alternative vision of the politics to the country. Rahul Gandhi unfurled that national flag at the historic clock tower and sang the national anthem to send a strong message of nationalism.\n",
      "\n",
      "Rahul Gandhi has been very concerned about the environmental degradation of the world and has said that unless they are not made a political issue, they won't get the attention they deserve.\n",
      "\n",
      "Rahul Gandhi criticized Environment Impact Assessment (EIA) 2020 draft by calling it \"dangerous\" and said that its long term consequences will be harmful. Calling it a disaster, he said that it will silence the communities who will get directly impacted by environmental degradation.\n",
      "\n",
      "Gandhi while addressing All India Congress Committee (AICC) in Jaipur, called for an end to red tape and outdated laws that slow job creation.\n",
      "Gandhi views the economic policies of Modi Government as fundamentally to benefit the 2-3 billionaires and has described them as crony capitalists. Calling the \"crony capitalists\" as best friends of Modi, he has been critical of the privatization of government assets. He is of the view that RSS and crony capitalists are colluding to control India. He has been specifically harsh on Indian Billionaire Gautam Adani and said that Modi Government has been very favourable towards Adani. He sees the rise of Adani as a direct consequence of crony capitalism. He said that he is not anti-business and supports fairness. Disagreeing with privatization of PSUs, he said that Congress will not allow the privatization if it comes to power. Citing the report on inequality by Oxfam, he said that rising economic inequality is the result of Modi Government's economic policies.\n",
      "\n",
      "Gandhi has been very critical of the Modi government's demonetization of ₹500 and ₹1,000 banknotes of the Mahatma Gandhi Series. He has called it a \"tragedy\" and a \"disaster\" that has negatively impacted the Indian economy and the lives of ordinary citizens. Gandhi has also accused the government of carrying out the policy without adequate planning and causing immense hardship to the poor and vulnerable sections of society. He said that demonetization is a fundamental failure of policy design and has alleged that it was a deliberate move by \"PayPM\" to help 2-3 billionaires to monopolize the economy. Terming demonetisation as the country's “biggest scam”,\n",
      "\n",
      "During his public speeches and political rallies, Gandhi has consistently criticized the demonetization move, claiming that it failed to achieve its intended objectives of combating black money and curbing corruption. He has also argued that the policy was implemented without proper consultation with experts or the opposition parties. Gandhi further asserted that, demonetization caused significant disruption to farmers, and rendered millions jobless in small and medium-sized businesses, and workers in the informal sector.\n"
     ]
    }
   ],
   "source": [
    "print(para)"
   ]
  },
  {
   "cell_type": "code",
   "execution_count": 22,
   "id": "1f48cc88",
   "metadata": {},
   "outputs": [
    {
     "name": "stdout",
     "output_type": "stream",
     "text": [
      "Enter the value as 0 or 1 :1\n",
      "Enter the topic to be searched :Hrithik Roshan\n"
     ]
    }
   ],
   "source": [
    "value = input(\"Enter the value as 0 or 1 :\")\n",
    "if value == \"1\":\n",
    "    title = str(input(\"Enter the topic to be searched :\"))\n",
    "    link = 'https://www.google.com/search?q=' + title + \"wikipedia\""
   ]
  },
  {
   "cell_type": "code",
   "execution_count": 23,
   "id": "b7220db7",
   "metadata": {},
   "outputs": [],
   "source": [
    "res = requests.get(link)\n",
    "soup = BeautifulSoup(res.text,\"html.parser\")\n"
   ]
  },
  {
   "cell_type": "code",
   "execution_count": 24,
   "id": "e2f69d2f",
   "metadata": {},
   "outputs": [],
   "source": [
    "for sp in soup.find_all(\"div\"):\n",
    "    try:\n",
    "        link= sp.find(\"a\").get(\"href\")\n",
    "        if ('en.wikipedia.org' in link):\n",
    "            break\n",
    "    except:\n",
    "        pass\n",
    "link = link[7:].split(\"&\")[0]  "
   ]
  },
  {
   "cell_type": "markdown",
   "id": "d9d85c55",
   "metadata": {},
   "source": [
    "## 2. Now printing Data from scrapping from wikipedia\n"
   ]
  },
  {
   "cell_type": "code",
   "execution_count": 25,
   "id": "5f567b01",
   "metadata": {},
   "outputs": [
    {
     "name": "stdout",
     "output_type": "stream",
     "text": [
      "Hrithik Roshan (pronounced [ɾɪt̪ɪk ɾoʃən];[1] born 10 January 1974) is an Indian actor who works in Hindi cinema. He has portrayed a variety of characters and is known for his dancing skills. One of the highest-paid actors in India, he has won many awards, including six Filmfare Awards, of which four were for Best Actor. Starting from 2012, he has appeared in Forbes India's Celebrity 100 several times based on his income and popularity.\n",
      "\n",
      "Roshan has frequently collaborated with his father, Rakesh Roshan. He made brief appearances as a child actor in several films in the 1980s and later worked as an assistant director on four of his father's films. His first leading role was in the box-office success Kaho Naa... Pyaar Hai (2000), for which he received several awards. Performances in the 2000 terrorism drama Fiza and the 2001 ensemble family drama Kabhi Khushi Kabhie Gham... consolidated his reputation but were followed by several poorly received films.\n",
      "\n",
      "The 2003 science fiction film Koi... Mil Gaya, for which Roshan won two Filmfare Awards, was a turning point in his film career; he later starred as the titular superhero in its sequels: Krrish (2006) and Krrish 3 (2013). He earned praise for his portrayal of a thief in Dhoom 2 (2006), Mughal emperor Akbar in Jodhaa Akbar (2008) and a quadriplegic in Guzaarish (2010). He achieved further commercial success by playing the lead in the 2011 drama Zindagi Na Milegi Dobara, the 2012 revenge drama Agneepath, the 2014 action thriller Bang Bang!, the 2019 biopic Super 30, and the 2019 action thriller War; the lattermost ranks as his highest-grossing release.\n",
      "\n",
      "Roshan has also performed on stage and debuted on television with the dance reality show Just Dance (2011). As a judge on the latter, he became the highest-paid film star on Indian television at that time. He is involved with a number of humanitarian causes, endorses several brands and products and has launched his own clothing line. Roshan was married for fourteen years to Sussanne Khan, with whom he has two children.\n",
      "\n",
      "Roshan was born on 10 January 1974 in Bombay to a family prominent in Bollywood.[2] He is of Punjabi and Bengali descent on his paternal side. Hrithik's paternal grandmother Ira Roshan was a Bengali.[3][4][5] His father, film director Rakesh Roshan, is the son of music director Roshanlal Nagrath; his mother, Pinky, is the daughter of producer and director J. Om Prakash. His uncle, Rajesh, is a music composer.[2] Roshan has an older sister, Sunaina, and was educated at the Bombay Scottish School.[6] Roshan belongs to a Hindu family, though he considers himself more spiritual than religious.[7][8]\n",
      "\n",
      "Roshan felt isolated as a child; he was born with an extra thumb fused to the one on his right hand, which led some of his peers to avoid him.[10] He has stammered since the age of six; this caused him problems at school, and he feigned injury and illness to avoid oral tests.[11] He was helped by daily speech therapy.[11][12]\n",
      "\n",
      "Roshan's grandfather, Prakash first brought him on-screen at the age of six in the film Aasha (1980); he danced in a song enacted by Jeetendra, for which Prakash paid him ₹100.[13][14] Roshan made uncredited appearances in various family film projects, including his father's production Aap Ke Deewane (1980). In Prakash's Aas Paas (1981), he appeared in the song \"Shehar Main Charcha Hai\".[15] The actor's only speaking role during this period came when he was 12; he was seen as Govinda, the title character's adopted son, in Prakash's Bhagwaan Dada (1986).[16][17] Roshan decided that he wanted to be a full-time actor, but his father insisted that he focus on his studies.[17] In his early 20s, he was diagnosed with scoliosis that would not allow him to dance or perform stunts. Initially devastated,[18][19] he eventually decided to become an actor anyway. Around a year after the diagnosis, he took a chance by jogging on a beach when he was caught in a downpour. There was no pain, and becoming more confident, he was able to increase his pace with no adverse effects. Roshan sees this day as \"the turning point of [his] life.\"[18]\n",
      "\n",
      "Roshan attended Sydenham College, where he took part in dance and music festivals while studying, graduating in commerce.[2] Roshan assisted his father on four films—Khudgarz (1987), King Uncle (1993), Karan Arjun (1995) and Koyla (1997)—while also sweeping the floor and making tea for the crew.[2][20] After pack-up, Roshan would enact Shah Rukh Khan's scenes from Koyla and film himself to make a judgement about his performance as an actor.[21] While he assisted his father, he studied acting under Kishore Namit Kapoor.[22][23]\n",
      "\n",
      "Roshan was originally scheduled to make his screen debut as a lead actor opposite Preity Zinta in the cancelled film Shekhar Kapur's Tara Rum Pum Pum.[24] Instead, he starred in his father's romantic drama Kaho Naa... Pyaar Hai (2000) opposite another debutante, Ameesha Patel. Roshan played dual roles: Rohit, an aspiring singer brutally killed after witnessing a murder, and Raj, an NRI who falls in love with Patel's character.[25] To prepare, he trained with the actor Salman Khan to bulk up physically,[26] worked to improve his diction and took lessons in acting, singing, dancing, fencing and riding.[27] With global revenues of ₹800 million (US$10 million),[28] Kaho Naa... Pyaar Hai became one of the highest-grossing Indian films of 2000.[29] His performance was acclaimed by critics;[21][30] Suggu Kanchana on Rediff.com wrote, \"[Roshan] is good. The ease and style with which he dances, emotes, fights, makes one forget this is his debut film ... He seems to be the most promising among the recent lot of star sons we have been subjected to.\"[25] For the role, Roshan received Best Male Debut and Best Actor Awards at the annual Filmfare Awards, IIFA Awards, and Zee Cine Awards.[31] He became the first actor to win both Filmfare Best Debut and Best Actor awards the same year.[32] The film established Roshan as a prominent actor in Bollywood.[33] The actor found life hard after his overnight success, particularly the demands on his time.[34]\n",
      "\n",
      "In his second release, Khalid Mohammed's crime drama Fiza, Roshan played Amaan, an innocent Muslim boy who becomes a terrorist after the 1992–93 Bombay riots.[34] Roshan appeared in the film to expand his horizons as an actor.[35] Co-starring Karisma Kapoor and Jaya Bachchan, Fiza was moderately successful at the box office,[36] and Roshan's performance earned him a second nomination for Best Actor at the Filmfare ceremony.[37] Taran Adarsh of Bollywood Hungama praised him as the production's prime asset, commending his \"body language, his diction, his expressions, [and] his overall persona.\"[38] Roshan next appeared in Vidhu Vinod Chopra's action drama Mission Kashmir (2000) alongside Sanjay Dutt, Preity Zinta, and Jackie Shroff. Set in the valley of Kashmir during the Indo-Pakistani conflicts, the film addressed the topics of terrorism and crime, and was a financial success.[29] Roshan was drawn to his complex role of a young man traumatised by the discovery that his adoptive father had been responsible for the death of his entire birth family.[35] In Adarsh's opinion, Roshan \"brightens up the screen with his magnetic presence. His body language, coupled with his expressions, is sure to win him plaudits.\"[39]\n",
      "\n",
      "In 2001, Roshan appeared in two films, the first of which was Subhash Ghai's Yaadein, a romantic drama which paired him with Kareena Kapoor and reunited him with Shroff. Although highly anticipated, Yaadein was reviled by critics; in The Hindu, Ziya Us Salam criticised the director for relying on Roshan's commercial appeal.[41][42] Roshan next had a supporting role in Karan Johar's ensemble melodrama Kabhi Khushi Kabhie Gham... alongside Amitabh Bachchan, Jaya Bachchan, Shah Rukh Khan, Kajol and Kareena Kapoor. He was cast as Rohan Raichand—the younger son of Bachchan's character who plots to reunite him with his adopted son (played by Khan)—after Johar had watched a rough cut of Kaho Naa... Pyaar Hai.[43] Kabhi Khushi Kabhie Gham... finished as India's highest-grossing film of the year,[44] and among the most successful Bollywood films in the overseas market, earning  ₹1.36 billion (US$17 million) worldwide.[45] Writing for Rediff.com, Anjum N described Roshan as \"the surprise scene-stealer\", praising him for holding his own against the established actors.[46] Roshan received a nomination for the Filmfare Award for Best Supporting Actor for his performance.[37]\n",
      "\n",
      "In 2002 Vikram Bhatt's romance Aap Mujhe Achche Lagne Lage reunited him with Ameesha Patel but failed at the box office, as did Arjun Sablok's romance Na Tum Jaano Na Hum (2002), in which he co-starred with Saif Ali Khan and Esha Deol. The latter film was named after a song of the same name from his debut film Kaho Naa... Pyaar Hai.[47] Roshan's final role that year was in a Yash Raj Films production, the high-profile Mujhse Dosti Karoge! co-starring Rani Mukerji and Kareena Kapoor. The romantic comedy was heavily promoted before its release and made money internationally, though not in India.[48][49] In another commercial failure, Sooraj R. Barjatya's Main Prem Ki Diwani Hoon, Roshan was cast alongside Kareena Kapoor for the fourth time, and Abhishek Bachchan. The press labelled Roshan a \"one-trick pony\" and suggested that the failure of these films would end his career.[41][50]\n",
      "\n",
      "Roshan's career began to revive with a starring role in Koi... Mil Gaya (2003).[21][51] The film, directed and produced by his father, centers on his character Rohit Mehra, a developmentally disabled young man, who comes in contact with an extraterrestrial being—a role that required him to lose nearly 8 kilograms (18 lb). Roshan recalls the experience of starring in the film fondly: \"I could live my childhood [again]. I could eat as many chocolates as I wanted. I became a baby and everybody was so caring towards me.\"[52] In the book Film Sequels, Carolyn Jess-Cooke drew similarities between the character and Forrest Gump, portrayed by Tom Hanks in the titular film, but this idea was dismissed by Roshan.[52][53] Film critics were polarised on their view of the film—some of them negatively compared its storyline to the 1982 Hollywood release E.T. the Extra-Terrestrial—but were unanimous in their praise for Roshan.[18][54] In a 2010 retrospective of the Top 80 Iconic Performances of Bollywood, Filmfare noted \"how flesh and blood Hrithik's act is. Simply because he believes he is the part. Watch him laugh, cry or bond with his remote controlled alien friend and note his nuanced turn.\"[55] A Rediff.com critic agreed that Roshan was \"the turbojet that propels the film to the realm of the extraordinary.\"[56] Koi... Mil Gaya was one of the most popular Bollywood films of the year, earning ₹823.3 million (US$10 million) worldwide and Roshan won both Filmfare Awards for Best Actor and Best Actor (Critics).[37][57]\n",
      "\n",
      "\"I am glad I have the intelligence to understand what is happening to me. If I allow myself to get affected by all this hype, I'll stunt my growth as an actor and be damned for life. I know that I still have a long way to go before I can even aspire to equal the achievements of any of the superstars. I know I am good at my job, and I am sure I will be damn good one day but right now, I also know how bad I can be.\"\n",
      "\n",
      "—Roshan on his position as a popular Bollywood actor[8]\n",
      "\n",
      "The following year, Roshan collaborated with Amitabh Bachchan and Preity Zinta on Farhan Akhtar's Lakshya (2004), a fictionalised coming-of-age story set against events from the 1999 Kargil War. He also featured in the item number \"Main Aisa Kyun Hoon\" (choreographed by Prabhu Deva) which proved popular with audiences.[58] Roshan found it \"one of the most challenging films\" of his career at the time and said it made him respect soldiers.[59] Although trade journalists expected the film to do well commercially,[59] it failed to attract a wide audience. Over the years, it has attained a cult status in India.[60] For the film, Roshan earned Best Actor nominations at the Filmfare and Zee Cine ceremony.[37][61] Manish Gajjar of the BBC praised Roshan's versatility and his transformation from a carefree youth to a determined and courageous soldier.[62] Reviewing the film in 2016, Tatsam Mukherjee of India Today described his performance as career-best, highlighting his scene before the climax.[60]\n",
      "\n",
      "Roshan was not seen on screen again until 2006, with three new releases, including a cameo at the end of the year in the romance I See You.[63] He co-starred with Naseeruddin Shah and Priyanka Chopra in his father's superhero production Krrish. A follow-up to his family's production Koi... Mil Gaya, it saw him play dual roles—the title superhero and his character from the original film. Before production, Roshan travelled to China to train with Tony Ching for the cable work that would be needed to make his character fly.[64] Among the several injuries he sustained during production, Roshan tore the hamstring in his right leg and broke his thumb and toe.[65] Krrish became the third-highest-grossing Bollywood film of 2006 with a worldwide revenue of ₹1.26 billion (US$16 million).[66] It garnered him Best Actor awards at the 2007 Screen and the International Indian Film Academy Awards.[37] Ronnie Scheib of Variety considered Roshan a prime asset of the film, noting that he \"pulls off the pic's wilder absurdities with considerable panache.\"[67]\n",
      "\n",
      "For his role as an enigmatic master thief in Dhoom 2 (2006)—an action sequel co-starring Aishwarya Rai, Bipasha Basu and Abhishek Bachchan—Roshan won his third Filmfare Award for Best Actor.[37] The film critic Rajeev Masand called him \"the heart, the soul, and the spirit of the film\", and praised his stunts, concluding that he \"holds the film together and even manages to take your attention away from its many flaws\".[68] Bored by playing the \"good guy\", Roshan was excited to play an anti-hero who lacks heroic attributes, for the first time.[64] At the request of the film's producer Aditya Chopra, Roshan lost 12 pounds (5.4 kg) for the role;[69] he also learnt skateboarding, snow boarding, rollerblading and sand surfing.[70][71] With earnings of ₹1.5 billion (US$19 million), Dhoom 2 became the highest grossing Indian film at that time, a distinction that was held for two years.[72] In the 2007 melodrama Om Shanti Om, he made a cameo alongside several Bollywood stars.[63]\n",
      "\n",
      "In 2008, Roshan was cast in Ashutosh Gowariker's Jodhaa Akbar, a partly fictionalised account of a marriage of convenience between the Mughal emperor Jalaluddin Muhammad Akbar (played by Roshan) and the Rajput princess Jodha Bai (played by Rai). Gowariker believed Roshan possessed the regal bearing and physique required to play the role of a king.[73] For the role, Roshan learned sword-fighting and horse-riding, and also took Urdu lessons.[74][75] Jodhaa Akbar earned  ₹1.2 billion (US$15 million) worldwide.[72] Roshan's performance earned him his fourth Filmfare Best Actor Award.[37] Critics were generally appreciative of Roshan's performance.[18] Raja Sen of Rediff.com thought that Roshan \"proves a very good Akbar. There are times when his inflection seems too modern, but the actor gives the performance his all, slipping into the skin of the character and staying there.\"[76] Roshan ended 2008 with an appearance in the popular item number \"Krazzy 4\" from the film of same name.[77]\n",
      "\n",
      "Following a small role in Zoya Akhtar's Luck by Chance in 2009, Roshan starred in and recorded \"Kites in the Sky\" for the multi-national romantic thriller Kites (2010).[78] In the film, produced by his father, he played a man running a green card scam in Las Vegas in which he has married 11 different women in exchange for money. Kites opened on a record-breaking 3000 screens, and became the first Bollywood film to break into the North American top 10.[79] However, the film eventually underperformed at India's box office and received negative reviews from critics.[80] The website Box Office India attributed this failure to its multilingual dialogues.[81] In a review for Rediff.com, Matthew Schneeberger thought that Roshan \"overacts. A lot. In Kites, he nails a few scenes, but bungles many more, particularly the film's catastrophically bad ending.\"[82]\n",
      "\n",
      "Roshan then collaborated with director Sanjay Leela Bhansali on the drama Guzaarish (2010) in which he had the role of Ethan Mascarenhas, a former magician suffering from quadriplegia, who after years of struggle, files an appeal for euthanasia. Roshan had reservations about the role but agreed to the project after reading the film's story.[84] To understand his role better, he interacted with paraplegic patients.[14] In his own words, \"I used to spend six hours with the patients, initially once a week and then once a month. I used to go to understand what they go through, what they think, what their needs are. They have taught me a lot of things.\"[85] He also trained with a Ukrainian magician to perform the film's magic stunts, and put on weight to look the part.[86][87] The film failed at the box office, though it and Roshan's performance were positively received by critics.[18][80] A writer for Zee News praised the chemistry between Roshan and Rai, adding that they \"break the Bollywood mould of stereotypes.\"[88] Roshan received the Zee Cine Award for Best Actor (Critics) and nominations for Filmfare, IIFA and Zee Cine Award for Best Actor.[37]\n",
      "\n",
      "In 2011, Roshan appeared in Zoya Akhtar's ensemble comedy-drama Zindagi Na Milegi Dobara alongside Abhay Deol and Farhan Akhtar as three friends who embark on a bachelor trip where they overcome their insecurities. Zoya cast Roshan in the role of an uptight workaholic as she considers him her favourite actor.[89] For the film's soundtrack, Roshan recorded the song \"Señorita\" with his co-stars and María del Mar Fernández.[78] Zindagi Na Milegi Dobara was released to positive reviews and Roshan's performance was praised.[90] Rajeev Masand wrote, \"Hrithik Roshan once again brings real depth to his character with a spectacular performance. He's shy and restrained, then lets go with such fantastic intensity that you make the inward journey with his character.\"[91] The film grossed ₹1.53 billion (US$19 million) worldwide and became Roshan's first commercial success in three years.[72] Later that year, he made a special appearance in Farhan's Don 2.[92]\n",
      "\n",
      "Roshan's only screen appearance in 2012 was in Karan Malhotra's Agneepath, a retelling of the 1990 film of the same name. Cast alongside Rishi Kapoor, Sanjay Dutt and Priyanka Chopra, Roshan reinterpreted the character Vijay Deenanath Chauhan (originally played by Amitabh Bachchan), a common man who seeks revenge against an unscrupulous man for framing and murdering his father. Roshan was initially sceptical of taking up a role earlier played by Bachchan, and thought hard before accepting.[93] He did not watch the original film for inspiration as he found his role to be completely different.[94] In one of several accidents to happen during production, Roshan suffered a painful back injury. He deemed Agneepath \"the hardest [project] I've ever worked in my life\" owing to the exhaustion he felt while filming.[95] The film broke Bollywood's highest opening-day earnings record, and had a worldwide gross of ₹1.93 billion (US$24 million).[96][97] A Firstpost reviewer thought Roshan \"breathes fire and soul into Agneepath\".[98] The actor received a third consecutive Stardust Award for Best Actor in a Drama, having won previously for Guzaarish and Zindagi Na Milegi Dobara.[99][100]\n",
      "\n",
      "Roshan appeared in the third instalment of the Krrish film series—Krrish 3 (2013) which also starred Priyanka Chopra, Vivek Oberoi and Kangana Ranaut. During production, Roshan was injured when he fell down, which resulted in back pain.[101][102] Critics thought that the film was entertaining but lacking in originality, though Roshan's performance garnered praise.[103] The editor Komal Nahta lauded Roshan for playing three different characters in the film.[104] Krrish 3 grossed ₹3.93 billion (US$49 million) worldwide, becoming one of the highest-grossing Indian films of all time.[105] Roshan received a fourth and fifth consecutive Filmfare nomination for his performances in Krrish 3,[106] and the 2014 action comedy Bang Bang!, a remake of the 2010 Hollywood release Knight and Day and one of the most expensive Bollywood films.[107][108] Playing the role of an eccentric secret agent who plots to track down a terrorist, Roshan became the first actor to perform a flyboarding stunt in film.[109] While filming in Thailand, Roshan suffered a head injury from a stunt accident and underwent brain surgery at the Hinduja Hospital performed by Dr. B. K. Misra to relieve subacute-subdural hematoma.[110] Writing for Bollywood news website Koimoi, critic Mohar Basu noted that Roshan was \"pitch perfect\" and \"breez[ed] through his part brilliantly.\"[111] The film earned ₹3.4 billion (US$43 million) in global ticket sales, making it among the highest-grossing Indian films.[112]\n",
      "\n",
      "For playing the role of a farmer in 2016 BC who travels to Mohenjo-daro in Ashutosh Gowariker's Mohenjo Daro (2016), Roshan was paid ₹500 million (US$6.3 million), a record-breaking remuneration for an Indian actor.[113] He underwent a three-month training to achieve the \"lithe\" and \"agile\" physique required for his role.[114] Despite being a highly anticipated release, it failed commercially, and critics were generally unenthusiastic.[115] Dismissing the film as an \"unintentional comedy\", Anupama Chopra wrote that Roshan \"pours his soul into every scene. But the burden of carrying this leaden, cartoon-like narrative proves too much even for his Herculean shoulders.\"[116] Roshan was next seen alongside Yami Gautam in Sanjay Gupta's Kaabil (2017), a romantic thriller about a blind man who avenges the rape of his blind wife. To ensure authenticity in his portrayal, Roshan locked himself in a room for four days and avoided contact with people.[117] Reviews for the film were generally positive with particular praise for Roshan's performance.[118] Meena Iyer of The Times of India found his performance to be his best to date,[119] and Shubhra Gupta on The Indian Express considered him \"the only bright spot in this dispirited mess of a movie.\"[120] The film accumulated ₹1.96 billion (US$25 million) worldwide.[121]\n",
      "\n",
      "After two years of screen absence, Roshan starred in two films in 2019, first in Vikas Bahl's biographical film Super 30, based on the mathematician Anand Kumar and his eponymous educational program. For the role, Roshan hired a trainer from Bhagalpur to learn Bihari accent.[122] The film was released to mixed reviews but was a commercial success, grossing ₹2 billion (US$25 million) worldwide.[123][124] While NDTV's Saibal Chatterjee found Roshan miscast in his role,[125] Michael Gomes of Khaleej Times called it one of his best performances.[126] Roshan found his biggest commercial success in the highest-grossing Bollywood film of 2019, the ₹4.75 billion (US$59 million)-earning action thriller War.[127][128] The film, Roshan's first with Yash Raj Films since Dhoom 2, tells the story of an Indian soldier (Tiger Shroff) tasked with eliminating his former mentor (Roshan) who has gone rogue. Reviews for the film and the performances were positive; Rajeev Masand praised Roshan and Shroff for their commitment to the action, \"bringing swag to the big stylish sequences and a visceral energy to the one-on-one punch-ups in the movie\".[129]\n",
      "\n",
      "Roshan's next release was three years later in Vikram Vedha (2022), a remake of the Tamil film of the same name.[130][131] The film tells the story of Vikram, a police inspector (Saif Ali Khan) who sets out to track down and kill Vedha (Roshan), a gangster. It received positive reviews from critics.[132] Rachana Dubey of The Times of India praised Roshan's performance, writing that he \"is menacing, ruthless and extremely emotional in parts\".[133] Despite this, it did not perform well commercially, leading Roshan to question the kind of roles he would do in the future.[134]\n",
      "\n",
      "Roshan will next star in Siddharth Anand's action film Fighter (2024), with Deepika Padukone and Anil Kapoor.[135]\n",
      "\n",
      "Roshan has performed on stage, appeared on television, and launched a clothing line. His first tour (Heartthrobs: Live in Concert (2002) with Kareena Kapoor, Karisma Kapoor, Arjun Rampal and Aftab Shivdasani) was successful in the United States and Canada.[136][137] At the end of that year, he danced on stage with Amitabh Bachchan, Sanjay Dutt, Kareena Kapoor, Rani Mukerji and Shah Rukh Khan at Kings Park Stadium in Durban, South Africa in the show Now or Never.[138]  In 2011, Roshan served as a judge alongside Farah Khan and Vaibhavi Merchant for the dance competition reality show, Just Dance. He became the highest-paid film star on Indian television after he was paid ₹20 million (US$250,000) per episode. The show ran from June to October 2011.[139] In November 2013, Roshan launched his clothing line, the casual wear brand HRx.[140]\n",
      "\n",
      "Roshan is vocal about his childhood stammer.[141] He actively supports the Dilkhush Special School for mentally challenged children in Mumbai.[142] In 2008, he donated ₹2 million (US$25,000) to the Nanavati Hospital for the treatment of stammering children.[12] Roshan set up a charity foundation in 2009 that aims to work for handicapped people.[143] He donates roughly ₹700,000 (US$8,800) for charity every month,[144] and believes that people should publicise their philanthropic work to set an example for others.[142] In 2013, he took part in a festivity at Ghatkopar, whose proceeds went to an NGO supporting tribal girls suffering from malnutrition and starvation.[145] Also that year, he donated ₹2.5 million (US$31,000) to help the victims of the 2013 North India floods.[146]\n",
      "\n",
      "Alongside other Bollywood stars, Roshan played a football match for charity organised by Aamir Khan's daughter, Ira, in 2014.[147] The following year, he appeared with Sonam Kapoor in the music video for \"Dheere Dheere\", whose profits were donated to charity.[148] Later that year, Roshan became the Indian brand ambassador for UNICEF and the Global Goals campaign's World's Largest Lesson that aims to educate children in over 100 countries about the Sustainable Development Goals.[149] In 2016, Roshan and other Bollywood actors made donations for building homes for families affected by the 2015 South Indian floods.[150]\n",
      "\n",
      "Following his debut film, Roshan signed on for endorsement deals with Coca-Cola, Tamarind and Hero Honda, all for three years and for at least ₹30 million (US$380,000).[41] As of 2010, he is celebrity endorser for such brands and products as Provogue, Parle Hide and Seek, Reliance Communications and Hero Honda and recently roshan has completed six years with Rado.[151][152] The Times of India reported that Roshan received ₹12 million (US$150,000) to ₹15 million (US$190,000) for each endorsement, making him one of the highest-paid male celebrity endorsers.[153] In 2016, Duff & Phelps estimated his brand value to be US$34.1 million, the eighth highest of Indian celebrities.[154] In 2017, Roshan was signed as the brand ambassador of a Health and wellness startup Cure.fit and is touted as one of the largest endorsement deal signed by an Indian startup.[155]\n",
      "\n",
      "On 20 December 2000, Roshan married Sussanne Khan in a private ceremony in Bangalore.[156] Despite their religious difference—Roshan is a Hindu and Khan is a Muslim—Roshan says that he equally valued her beliefs.[7] The couple has two sons, Hrehaan (born in 2006) and Hridhaan (born in 2008).[157][158] They separated in December 2013 and their divorce was finalised in November 2014.[156]\n",
      "\n",
      "Roshan and Sussanne maintained that they parted amicably.[159] In 2016, he filed a lawsuit against his Krrish 3 co-star Kangana Ranaut, accusing her of cyber stalking and harassment. Denying the charges, Ranaut filed a counter-charge against Roshan, claiming that his lawsuit was an attempt to cover up their affair.[160] Owing to a lack of evidence, the Mumbai Police closed the case later that year.[161]\n",
      "\n",
      "Roshan considered quitting the film industry after two assailants fired bullets at his father in 2000.[27] Later that December, he was involved in a controversy when Nepalese newspapers accused him of stating in a Star Plus interview that he hated Nepal and its people. This led to protests in the country, a ban on screening of his films, and four people's deaths after street violence.[162] Nepalese people threatened to \"bury [him] alive\" if he ever visited the country.[163] Star Plus, for its part, stated that Roshan \"did not touch upon Nepal.\" The violence calmed down after Roshan wrote a two-page rejoinder in which he denied having made any claim against the country. Nepali actress Manisha Koirala helped distribute it to newspapers and a local television station.[164]\n",
      "\n",
      "As the son of the filmmaker Rakesh, Roshan faced the media spotlight from a young age.[22] Discussing nepotism in Bollywood, Shama Rana views him as one of several actors who managed film careers with the help of family relations in the industry.[165] On the other hand, Roshan is acknowledged in the media for his devotion to his work and for his ability to commit heavily to each role.[14][166] He insists on learning any necessary skills and performing stunts himself,[167][168] and is particularly known for his professionalism.[169] The director Ashutosh Gowariker praised Roshan when he continued filming Mohenjo Daro despite several injuries and being in a troubled state of mind.[170] Zoya Akhtar, who considers Roshan her favourite actor, and directed him in Zindagi Na Milegi Dobara, remarks on his ability to display a range of emotions on screen.[18][89]\n",
      "\n",
      "In an attempt to avoid typecasting, Roshan takes on diverse parts.[18][35] He looks at the scripts as a platform to inspire with the strength and courage of his characters and to make his audiences smile.[18]  Roshan was noted by critics for his versatility in portraying a variety of characters in Koi... Mil Gaya (2003), Lakshya (2004), Jodhaa Akbar (2008), and Guzaarish (2010).[18][171] Box Office India ranked him first on its top actors listing in 2000 and later included him in 2003, 2004, 2006 and 2007.[172] Roshan topped Rediff.com's list of best Bollywood actors in 2003,[21] and was ranked fourth in 2006.[173] Filmfare magazine included two of his performances—from Koi... Mil Gaya and Lakshya—on its 2010 list of 80 Iconic Performances.[55][174] In March 2011, Roshan placed fourth on Rediff.com's list of Top 10 Actors of 2000–2010.[175] Roshan's dancing ability has also drawn praise from the media, an opinion he disagrees with.[18][176] The Los Angeles Times finds him to be \"a sensational dancer\" who \"has the dashing, chiseled looks of a silent movie matinee idol.\"[177] Some critics also believe that he is only able to dance and act in his father's films.[178] His inclination towards \"glamorous, albeit empty parts\", which conform to character stereotypes, has been criticised.[179]\n",
      "\n",
      "Roshan is among Bollywood's highest-paid actors.[113] Discussing his success ratio at the box office in a 2014 article, Daily News and Analysis credited him as \"the most bankable star\" in Bollywood.[180] One of the most high-profile Indian celebrities, he was named the second most powerful Indian film star by Forbes in 2001.[181] He ranked fourth in Filmfare Power List in 2007.[182] In a 2009 poll conducted by Daily News and Analysis Roshan was voted one of India's most popular icons.[183] At the 2009 FICCI-IIFA Awards, Roshan was one of the ten recipients of the most powerful Bollywood entertainers of the 2000s.[184] From 2012 to 2018, Roshan was placed on Forbes India's Celebrity 100—a list based on the income and popularity of Indian celebrities—peaking at ninth position in 2014 with an annual income of ₹850 million (US$11 million).[185][186]\n",
      "\n",
      "Roshan has established himself as a sex symbol and a style icon in India.[187][188] In 2006, Roshan was one of the four Bollywood actors, along with Priyanka Chopra, Kajol and Shah Rukh Khan, whose miniature dolls were launched in the United Kingdom, under the name of \"Bollywood Legends\".[189] He topped The Times of India's listing of 50 Most Desirable Men in 2010 and ranked among the top five for the next five years.[190] In 2010 and 2012, the Indian edition of GQ included him in their listing of Bollywood's best dressed men.[191][192] A life-size, wax figure of him was installed at London's Madame Tussauds museum in January 2011, making him the fifth Indian actor to have been replicated as a wax statue there.[193] Versions of the statue were installed at Madame Tussauds' museums in New York, Washington and other cities in the world.[194] Roshan regularly features in the magazine Eastern Eye's listing of the 50 Sexiest Asian Men. He topped the list in 2011, 2012 and 2014, and featured among the top five in 2010, 2013 and 2015 to 2018.[195]\n"
     ]
    }
   ],
   "source": [
    "res = requests.get(link)\n",
    "soup = BeautifulSoup(res.text,\"html.parser\")\n",
    "Heading  = soup.find(\"h1\").text\n",
    "para = \"\"\n",
    "for p in (soup.find_all(\"p\")):\n",
    "    para += p.text\n",
    "    para += \"\\n\"\n",
    "para = para.strip()\n",
    "print(para)\n",
    "    \n"
   ]
  },
  {
   "cell_type": "code",
   "execution_count": 17,
   "id": "c68a6290",
   "metadata": {},
   "outputs": [],
   "source": [
    "fd = open(Heading +\".txt\",\"w\",encoding=\"utf-8\")\n",
    "fd.write(para)\n",
    "fd.close()"
   ]
  },
  {
   "cell_type": "code",
   "execution_count": null,
   "id": "5f31e7cc",
   "metadata": {},
   "outputs": [],
   "source": []
  }
 ],
 "metadata": {
  "kernelspec": {
   "display_name": "Python 3 (ipykernel)",
   "language": "python",
   "name": "python3"
  },
  "language_info": {
   "codemirror_mode": {
    "name": "ipython",
    "version": 3
   },
   "file_extension": ".py",
   "mimetype": "text/x-python",
   "name": "python",
   "nbconvert_exporter": "python",
   "pygments_lexer": "ipython3",
   "version": "3.10.9"
  }
 },
 "nbformat": 4,
 "nbformat_minor": 5
}
